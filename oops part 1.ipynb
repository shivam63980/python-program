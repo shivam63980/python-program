{
 "cells": [
  {
   "cell_type": "code",
   "execution_count": 1,
   "id": "ac7078fc",
   "metadata": {},
   "outputs": [
    {
     "data": {
      "text/plain": [
       "9"
      ]
     },
     "execution_count": 1,
     "metadata": {},
     "output_type": "execute_result"
    }
   ],
   "source": [
    "def add(x,y,z):\n",
    "    c=x+y+z\n",
    "    return c\n",
    "add(2,3,4)"
   ]
  },
  {
   "cell_type": "code",
   "execution_count": 7,
   "id": "b180783b",
   "metadata": {},
   "outputs": [
    {
     "data": {
      "text/plain": [
       "10000"
      ]
     },
     "execution_count": 7,
     "metadata": {},
     "output_type": "execute_result"
    }
   ],
   "source": [
    "class car:\n",
    "    price=10000\n",
    "    \n",
    "# object\n",
    "\n",
    "c=car()                    \n",
    "c.price"
   ]
  },
  {
   "cell_type": "code",
   "execution_count": 14,
   "id": "5dba2e62",
   "metadata": {},
   "outputs": [
    {
     "data": {
      "text/plain": [
       "('shivam ', 56)"
      ]
     },
     "execution_count": 14,
     "metadata": {},
     "output_type": "execute_result"
    }
   ],
   "source": [
    "# wap to make a class of student having name and marks\n",
    "# make can object to get the output.\n",
    "\n",
    "class student:\n",
    "    name=\"shivam \"\n",
    "    marks=56\n",
    "\n",
    "s=student()\n",
    "s.name,s.marks\n"
   ]
  },
  {
   "cell_type": "code",
   "execution_count": 13,
   "id": "5388fd72",
   "metadata": {},
   "outputs": [
    {
     "data": {
      "text/plain": [
       "56"
      ]
     },
     "execution_count": 13,
     "metadata": {},
     "output_type": "execute_result"
    }
   ],
   "source": [
    "s.marks"
   ]
  },
  {
   "cell_type": "code",
   "execution_count": 33,
   "id": "b2b7d84c",
   "metadata": {},
   "outputs": [
    {
     "data": {
      "text/plain": [
       "('shivam', 90)"
      ]
     },
     "execution_count": 33,
     "metadata": {},
     "output_type": "execute_result"
    }
   ],
   "source": [
    "class student:\n",
    "#     in def function we are use a self function firstly in arguments\n",
    "    def stu(self,name,marks):\n",
    "        return(name,marks)\n",
    "s=student()\n",
    "s.stu('shivam',90)"
   ]
  },
  {
   "cell_type": "code",
   "execution_count": null,
   "id": "b0defb89",
   "metadata": {},
   "outputs": [],
   "source": []
  }
 ],
 "metadata": {
  "kernelspec": {
   "display_name": "Python 3 (ipykernel)",
   "language": "python",
   "name": "python3"
  },
  "language_info": {
   "codemirror_mode": {
    "name": "ipython",
    "version": 3
   },
   "file_extension": ".py",
   "mimetype": "text/x-python",
   "name": "python",
   "nbconvert_exporter": "python",
   "pygments_lexer": "ipython3",
   "version": "3.9.12"
  }
 },
 "nbformat": 4,
 "nbformat_minor": 5
}
