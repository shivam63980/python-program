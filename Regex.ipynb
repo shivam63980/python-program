{
 "cells": [
  {
   "cell_type": "code",
   "execution_count": 1,
   "id": "f103d7eb",
   "metadata": {},
   "outputs": [],
   "source": [
    "import re\n"
   ]
  },
  {
   "cell_type": "code",
   "execution_count": 2,
   "id": "8739395f",
   "metadata": {},
   "outputs": [
    {
     "data": {
      "text/plain": [
       "['I']"
      ]
     },
     "execution_count": 2,
     "metadata": {},
     "output_type": "execute_result"
    }
   ],
   "source": [
    "# search\n",
    "# findall\n",
    "# sub\n",
    "# split\n",
    "# finditer\n",
    "\n",
    "\n",
    "x='I am a Lion and i know it u r a lion'\n",
    "re.findall('I',x)"
   ]
  },
  {
   "cell_type": "code",
   "execution_count": 4,
   "id": "c4794492",
   "metadata": {},
   "outputs": [
    {
     "data": {
      "text/plain": [
       "<re.Match object; span=(9, 10), match='o'>"
      ]
     },
     "execution_count": 4,
     "metadata": {},
     "output_type": "execute_result"
    }
   ],
   "source": [
    "re.search('o',x)"
   ]
  },
  {
   "cell_type": "code",
   "execution_count": 5,
   "id": "915f8df1",
   "metadata": {},
   "outputs": [
    {
     "data": {
      "text/plain": [
       "'I am a Laon and a know at u r a laon'"
      ]
     },
     "execution_count": 5,
     "metadata": {},
     "output_type": "execute_result"
    }
   ],
   "source": [
    "re.sub('i','a',x)"
   ]
  },
  {
   "cell_type": "code",
   "execution_count": 6,
   "id": "292cef01",
   "metadata": {},
   "outputs": [
    {
     "data": {
      "text/plain": [
       "['I am a L', 'on and ', ' know ', 't u r a l', 'on']"
      ]
     },
     "execution_count": 6,
     "metadata": {},
     "output_type": "execute_result"
    }
   ],
   "source": [
    "re.split('i',x)"
   ]
  },
  {
   "cell_type": "code",
   "execution_count": 8,
   "id": "f8a9d464",
   "metadata": {},
   "outputs": [
    {
     "name": "stdout",
     "output_type": "stream",
     "text": [
      "starting point is  8 ending point 9\n",
      "starting point is  16 ending point 17\n",
      "starting point is  23 ending point 24\n"
     ]
    }
   ],
   "source": [
    "# finditer\n",
    "\n",
    "x=\"I am a Lion and i know it\"\n",
    "pattern='i'\n",
    "for a in re.finditer(pattern,x):\n",
    "    x=a.start()\n",
    "    y=a.end()\n",
    "    print(\"starting point is \",x,\"ending point\",y)"
   ]
  },
  {
   "cell_type": "code",
   "execution_count": 9,
   "id": "29805392",
   "metadata": {},
   "outputs": [
    {
     "data": {
      "text/plain": [
       "['', '234']"
      ]
     },
     "execution_count": 9,
     "metadata": {},
     "output_type": "execute_result"
    }
   ],
   "source": [
    "x=\"1234\"\n",
    "re.split('1',x)"
   ]
  },
  {
   "cell_type": "code",
   "execution_count": 11,
   "id": "985b3914",
   "metadata": {},
   "outputs": [
    {
     "data": {
      "text/plain": [
       "['', 'y na', 'e is shiva', '']"
      ]
     },
     "execution_count": 11,
     "metadata": {},
     "output_type": "execute_result"
    }
   ],
   "source": [
    "x=(\"my name is shivam\")\n",
    "re.split('m',x)"
   ]
  },
  {
   "cell_type": "code",
   "execution_count": null,
   "id": "4fb8e419",
   "metadata": {},
   "outputs": [],
   "source": []
  }
 ],
 "metadata": {
  "kernelspec": {
   "display_name": "Python 3 (ipykernel)",
   "language": "python",
   "name": "python3"
  },
  "language_info": {
   "codemirror_mode": {
    "name": "ipython",
    "version": 3
   },
   "file_extension": ".py",
   "mimetype": "text/x-python",
   "name": "python",
   "nbconvert_exporter": "python",
   "pygments_lexer": "ipython3",
   "version": "3.9.12"
  }
 },
 "nbformat": 4,
 "nbformat_minor": 5
}
