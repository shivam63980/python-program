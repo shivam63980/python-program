{
 "cells": [
  {
   "cell_type": "code",
   "execution_count": 5,
   "id": "d53cee99",
   "metadata": {},
   "outputs": [
    {
     "name": "stdout",
     "output_type": "stream",
     "text": [
      "('demo', 'hello', 54, 'gys')\n",
      "<class 'tuple'>\n",
      "['demo', 'hello', 54, 99]\n"
     ]
    }
   ],
   "source": [
    "tup=('demo','hello',54 ,'gys')\n",
    "print(tup)\n",
    "print(type(tup))\n",
    "\n",
    "tup=list(tup)\n",
    "tup[3]=99\n",
    "print(tup)"
   ]
  },
  {
   "cell_type": "code",
   "execution_count": 7,
   "id": "7fb79263",
   "metadata": {},
   "outputs": [
    {
     "name": "stdout",
     "output_type": "stream",
     "text": [
      "{1, 2, 4, 5, 6}\n",
      "<class 'set'>\n",
      "{1, 2, 4, 5, 6, 45}\n"
     ]
    }
   ],
   "source": [
    "# add the number of a list in the set\n",
    "set={1,2,4,5,6}\n",
    "print(set)\n",
    "print(type(set))\n",
    "set.add(45)\n",
    "print(set)"
   ]
  },
  {
   "cell_type": "code",
   "execution_count": 11,
   "id": "2c015e45",
   "metadata": {},
   "outputs": [
    {
     "name": "stdout",
     "output_type": "stream",
     "text": [
      "{1, 2, 3, 4, 5}\n",
      "{1, 2, 3, 4, 5, 6, 199, 99, 109}\n"
     ]
    }
   ],
   "source": [
    "set={1,2,3,4,5,1,2,3}\n",
    "print(set)\n",
    "set.update([5,6,99,109,199])\n",
    "print(set)"
   ]
  },
  {
   "cell_type": "code",
   "execution_count": 13,
   "id": "e3ca4bd2",
   "metadata": {},
   "outputs": [
    {
     "name": "stdout",
     "output_type": "stream",
     "text": [
      "{3, 4, 5, 6}\n",
      "{4, 5, 6}\n"
     ]
    }
   ],
   "source": [
    "set={3,4,5,6}\n",
    "print(set)\n",
    "set.pop()\n",
    "print(set)"
   ]
  },
  {
   "cell_type": "code",
   "execution_count": 21,
   "id": "7a0b0ba2",
   "metadata": {},
   "outputs": [
    {
     "name": "stdout",
     "output_type": "stream",
     "text": [
      "{1, 2, 3, 4, 5}\n",
      "set()\n"
     ]
    }
   ],
   "source": [
    "set={1,2,3,4,5}\n",
    "print(set)\n",
    "\n",
    "set.clear()\n",
    "print(set)"
   ]
  },
  {
   "cell_type": "code",
   "execution_count": 29,
   "id": "35536ef4",
   "metadata": {},
   "outputs": [
    {
     "name": "stdout",
     "output_type": "stream",
     "text": [
      "{1, 2, 3, 4, 5, 6}\n"
     ]
    },
    {
     "ename": "TypeError",
     "evalue": "'set' object doesn't support item deletion",
     "output_type": "error",
     "traceback": [
      "\u001b[1;31m---------------------------------------------------------------------------\u001b[0m",
      "\u001b[1;31mTypeError\u001b[0m                                 Traceback (most recent call last)",
      "Input \u001b[1;32mIn [29]\u001b[0m, in \u001b[0;36m<cell line: 3>\u001b[1;34m()\u001b[0m\n\u001b[0;32m      1\u001b[0m \u001b[38;5;28mset\u001b[39m\u001b[38;5;241m=\u001b[39m{\u001b[38;5;241m1\u001b[39m,\u001b[38;5;241m2\u001b[39m,\u001b[38;5;241m3\u001b[39m,\u001b[38;5;241m4\u001b[39m,\u001b[38;5;241m5\u001b[39m,\u001b[38;5;241m6\u001b[39m}\n\u001b[0;32m      2\u001b[0m \u001b[38;5;28mprint\u001b[39m(\u001b[38;5;28mset\u001b[39m)\n\u001b[1;32m----> 3\u001b[0m \u001b[38;5;28;01mdel\u001b[39;00m \u001b[38;5;28mset\u001b[39m[\u001b[38;5;241m3\u001b[39m]\n\u001b[0;32m      4\u001b[0m \u001b[38;5;28mprint\u001b[39m(\u001b[38;5;28mset\u001b[39m)\n",
      "\u001b[1;31mTypeError\u001b[0m: 'set' object doesn't support item deletion"
     ]
    }
   ],
   "source": [
    "set={1,2,3,4,5,6}\n",
    "print(set)\n",
    "del set[3]\n",
    "print(set)"
   ]
  },
  {
   "cell_type": "code",
   "execution_count": null,
   "id": "2804d7e0",
   "metadata": {},
   "outputs": [],
   "source": []
  },
  {
   "cell_type": "code",
   "execution_count": 63,
   "id": "5b0a586b",
   "metadata": {},
   "outputs": [
    {
     "name": "stdout",
     "output_type": "stream",
     "text": [
      "['shivam', 'shrma', 'shin', 'sdfh']\n",
      "4\n"
     ]
    }
   ],
   "source": [
    "lst=[1,2,3,4,5]\n",
    "# a=\"   SHIVAM \"\n",
    "# a=[\"shivam\",\"shrma\",\"shin\",\"sdfh\"]\n",
    "# print(a)\n",
    "# v=a\n",
    "# v=len(a)\n",
    "# print(v)\n",
    "#  print(lst)\n",
    "# lst.append(2)\n",
    "# lst.remove(2)\n",
    "# lst.clear()\n",
    "# del lst[2]\n",
    "# lst.pop()\n",
    "# lst.insert(3,9)\n",
    "# print(lst[2:5])\n",
    "# print(a.replace(\"sh\",\"shii\"))\n",
    "# print(a.strip())\n",
    "# print(\"\\n\")\n",
    "# print(a.lower())\n",
    "# print(a.upper())\n",
    "# print(len)\n",
    "# print(a)\n",
    "# print(lst)"
   ]
  },
  {
   "cell_type": "code",
   "execution_count": 64,
   "id": "42c5311b",
   "metadata": {},
   "outputs": [
    {
     "name": "stdout",
     "output_type": "stream",
     "text": [
      "2\n",
      "4\n",
      "6\n",
      "8\n",
      "10\n",
      "12\n",
      "14\n",
      "16\n",
      "18\n",
      "20\n"
     ]
    }
   ],
   "source": [
    "i=1\n",
    "z=2\n",
    "while(i<11):\n",
    "    t=i*z\n",
    "    print(t)\n",
    "    i=i+1"
   ]
  },
  {
   "cell_type": "code",
   "execution_count": 66,
   "id": "b36cdf06",
   "metadata": {},
   "outputs": [
    {
     "name": "stdout",
     "output_type": "stream",
     "text": [
      "2\n",
      "4\n",
      "6\n",
      "8\n",
      "10\n",
      "12\n",
      "14\n",
      "16\n",
      "18\n",
      "20\n"
     ]
    }
   ],
   "source": [
    "i=1\n",
    "while(i<11):\n",
    "    print(i*2)\n",
    "    i=i+1"
   ]
  },
  {
   "cell_type": "code",
   "execution_count": 126,
   "id": "f857ecdd",
   "metadata": {},
   "outputs": [
    {
     "name": "stdout",
     "output_type": "stream",
     "text": [
      "number is even 78\n",
      "number is even 88\n",
      "number is even 76\n",
      "number is odd 97\n",
      "number is odd 33\n",
      " all odd number 2\n",
      " all even number 3\n"
     ]
    }
   ],
   "source": [
    "# n=int(input(\"enter the number\"))\n",
    "x=[78,88,76,97,33]\n",
    "ev=0\n",
    "odd=0\n",
    "for i in x:\n",
    "    \n",
    "    if(i%2==0):\n",
    "        \n",
    "        print(\"number is even\",i)\n",
    "        ev=ev+1\n",
    "    \n",
    "    else:\n",
    "        odd=odd+1\n",
    "        print(\"number is odd\",i)\n",
    "print(\" all odd number\",odd)\n",
    "print(\" all even number\",ev)"
   ]
  },
  {
   "cell_type": "code",
   "execution_count": 72,
   "id": "3888a191",
   "metadata": {},
   "outputs": [
    {
     "name": "stdout",
     "output_type": "stream",
     "text": [
      "even\n"
     ]
    }
   ],
   "source": [
    "n=52\n",
    "if(52%2==0):\n",
    "    print(\"even\")\n",
    "else:\n",
    "    if(52%2!=0):\n",
    "        print(\"odd\")"
   ]
  },
  {
   "cell_type": "code",
   "execution_count": 75,
   "id": "3457c091",
   "metadata": {},
   "outputs": [
    {
     "name": "stdout",
     "output_type": "stream",
     "text": [
      "0\n",
      "1\n",
      "2\n",
      "3\n",
      "4\n",
      "5\n",
      "6\n",
      "7\n",
      "8\n",
      "9\n"
     ]
    }
   ],
   "source": [
    "for i in range(10):\n",
    "    print(i)"
   ]
  },
  {
   "cell_type": "code",
   "execution_count": 77,
   "id": "88a15d29",
   "metadata": {},
   "outputs": [
    {
     "name": "stdout",
     "output_type": "stream",
     "text": [
      "[233, 45, 'hello bhai', 'python']\n"
     ]
    }
   ],
   "source": [
    "x=[233,45,'hello bhai','python']\n",
    "print(x)"
   ]
  },
  {
   "cell_type": "code",
   "execution_count": 78,
   "id": "3ce55681",
   "metadata": {},
   "outputs": [],
   "source": [
    "x[-1]='sql'"
   ]
  },
  {
   "cell_type": "code",
   "execution_count": 79,
   "id": "527bc14c",
   "metadata": {},
   "outputs": [
    {
     "data": {
      "text/plain": [
       "[233, 45, 'hello bhai', 'sql']"
      ]
     },
     "execution_count": 79,
     "metadata": {},
     "output_type": "execute_result"
    }
   ],
   "source": [
    "x"
   ]
  },
  {
   "cell_type": "code",
   "execution_count": 80,
   "id": "f518c23d",
   "metadata": {},
   "outputs": [],
   "source": [
    "x[2]='shivam'"
   ]
  },
  {
   "cell_type": "code",
   "execution_count": 81,
   "id": "cf575971",
   "metadata": {},
   "outputs": [
    {
     "data": {
      "text/plain": [
       "[233, 45, 'shivam', 'sql']"
      ]
     },
     "execution_count": 81,
     "metadata": {},
     "output_type": "execute_result"
    }
   ],
   "source": [
    "x"
   ]
  },
  {
   "cell_type": "code",
   "execution_count": 82,
   "id": "039348c5",
   "metadata": {},
   "outputs": [
    {
     "data": {
      "text/plain": [
       "'l'"
      ]
     },
     "execution_count": 82,
     "metadata": {},
     "output_type": "execute_result"
    }
   ],
   "source": [
    "x[-1][-1]"
   ]
  },
  {
   "cell_type": "code",
   "execution_count": 83,
   "id": "f691bcbb",
   "metadata": {},
   "outputs": [
    {
     "data": {
      "text/plain": [
       "[233, 45, 'shivam', 'sql']"
      ]
     },
     "execution_count": 83,
     "metadata": {},
     "output_type": "execute_result"
    }
   ],
   "source": [
    "x"
   ]
  },
  {
   "cell_type": "code",
   "execution_count": 91,
   "id": "e7f2a78e",
   "metadata": {},
   "outputs": [],
   "source": [
    "# x[1:3]=[0]\n",
    "x[1:3]=[55,'shi']"
   ]
  },
  {
   "cell_type": "code",
   "execution_count": 92,
   "id": "b3603b36",
   "metadata": {},
   "outputs": [
    {
     "data": {
      "text/plain": [
       "[233, 55, 'shi']"
      ]
     },
     "execution_count": 92,
     "metadata": {},
     "output_type": "execute_result"
    }
   ],
   "source": [
    "x"
   ]
  },
  {
   "cell_type": "code",
   "execution_count": 86,
   "id": "148ebdeb",
   "metadata": {},
   "outputs": [
    {
     "data": {
      "text/plain": [
       "[233, 0, 'sql']"
      ]
     },
     "execution_count": 86,
     "metadata": {},
     "output_type": "execute_result"
    }
   ],
   "source": [
    "x"
   ]
  },
  {
   "cell_type": "code",
   "execution_count": 93,
   "id": "57a026f9",
   "metadata": {},
   "outputs": [],
   "source": [
    "a=[-33,99,-34,70,-67]\n",
    "a.sort()"
   ]
  },
  {
   "cell_type": "code",
   "execution_count": 94,
   "id": "be58fd68",
   "metadata": {},
   "outputs": [
    {
     "data": {
      "text/plain": [
       "[-67, -34, -33, 70, 99]"
      ]
     },
     "execution_count": 94,
     "metadata": {},
     "output_type": "execute_result"
    }
   ],
   "source": [
    "a"
   ]
  },
  {
   "cell_type": "code",
   "execution_count": 99,
   "id": "ad238f49",
   "metadata": {},
   "outputs": [
    {
     "name": "stdout",
     "output_type": "stream",
     "text": [
      "[100, 39, 9, 78, -34]\n"
     ]
    }
   ],
   "source": [
    "a=[-34,78,9,39,100]\n",
    "# a.sort()\n",
    "# print(a)\n",
    "a.reverse()\n",
    "print(a)"
   ]
  },
  {
   "cell_type": "code",
   "execution_count": 106,
   "id": "36404cad",
   "metadata": {},
   "outputs": [],
   "source": [
    "a=[23,4,98,-45,78]\n",
    "a.sort(reverse=True)"
   ]
  },
  {
   "cell_type": "code",
   "execution_count": 107,
   "id": "bc557b41",
   "metadata": {},
   "outputs": [
    {
     "data": {
      "text/plain": [
       "[98, 78, 23, 4, -45]"
      ]
     },
     "execution_count": 107,
     "metadata": {},
     "output_type": "execute_result"
    }
   ],
   "source": [
    "a"
   ]
  },
  {
   "cell_type": "code",
   "execution_count": 110,
   "id": "475d65a3",
   "metadata": {},
   "outputs": [
    {
     "data": {
      "text/plain": [
       "['hello', 3, 1]"
      ]
     },
     "execution_count": 110,
     "metadata": {},
     "output_type": "execute_result"
    }
   ],
   "source": [
    "x=[1,2,3,4,'hello']\n",
    "x[::-1]"
   ]
  },
  {
   "cell_type": "code",
   "execution_count": 117,
   "id": "f5fbc4a6",
   "metadata": {},
   "outputs": [
    {
     "name": "stdout",
     "output_type": "stream",
     "text": [
      "[78, 45, 90, 23, 34]\n"
     ]
    }
   ],
   "source": [
    "x=[34,45,90,23,78]\n",
    "x[0],x[-1]=x[-1],x[0]\n",
    "print(x)"
   ]
  },
  {
   "cell_type": "code",
   "execution_count": 118,
   "id": "e6640518",
   "metadata": {},
   "outputs": [
    {
     "name": "stdout",
     "output_type": "stream",
     "text": [
      "ggreatest number 5555\n"
     ]
    }
   ],
   "source": [
    "x=[555,78,76,222,5555,-89]\n",
    "max=x[0]\n",
    "for i in x:\n",
    "    if i>max:\n",
    "        max=i\n",
    "        print(\"ggreatest number\",max)"
   ]
  },
  {
   "cell_type": "code",
   "execution_count": 141,
   "id": "2a99b6a7",
   "metadata": {},
   "outputs": [
    {
     "name": "stdout",
     "output_type": "stream",
     "text": [
      "not match 34\n",
      "not match 45\n",
      "matching number 89\n",
      "not match 89\n",
      "matching number 56\n"
     ]
    }
   ],
   "source": [
    "a=[34,45,89,56]\n",
    "b=[67,89,23,56]\n",
    "\n",
    "for i in a:\n",
    "    for j in b:\n",
    "        if i==j:\n",
    "            print(\"matching number\",i)\n",
    "#             print(i)\n",
    "#             print(\"matching number\")\n",
    "    else:\n",
    "          if i!=j:\n",
    "                print(\"not match\",i)"
   ]
  },
  {
   "cell_type": "code",
   "execution_count": 142,
   "id": "77d838e5",
   "metadata": {},
   "outputs": [
    {
     "name": "stdout",
     "output_type": "stream",
     "text": [
      "[3, 4, 5, 6, 7, 99, 88, 77, 65]\n"
     ]
    }
   ],
   "source": [
    "a=[3,4,5,6,7]\n",
    "b=[99,88,77,65]\n",
    "c=a+b\n",
    "print(c)\n",
    "for"
   ]
  },
  {
   "cell_type": "code",
   "execution_count": null,
   "id": "78e58192",
   "metadata": {},
   "outputs": [],
   "source": []
  }
 ],
 "metadata": {
  "kernelspec": {
   "display_name": "Python 3 (ipykernel)",
   "language": "python",
   "name": "python3"
  },
  "language_info": {
   "codemirror_mode": {
    "name": "ipython",
    "version": 3
   },
   "file_extension": ".py",
   "mimetype": "text/x-python",
   "name": "python",
   "nbconvert_exporter": "python",
   "pygments_lexer": "ipython3",
   "version": "3.9.12"
  }
 },
 "nbformat": 4,
 "nbformat_minor": 5
}
