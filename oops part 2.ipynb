{
 "cells": [
  {
   "cell_type": "code",
   "execution_count": 1,
   "id": "29c98ade",
   "metadata": {},
   "outputs": [],
   "source": [
    "# wap  to make a classs of simpilified airthmetic operation and tr to get the output of that class through \n",
    "# the object .\n",
    "\n",
    "# wap to make a class of car and find its actual price ,if the car is of  more than 10 lakh then there is a tax of 14%\n",
    "# on the car and if the cost of car is less the 10 lkh there is some discount of 7.8% on the car . find the actual\n",
    "# price of the paid by the user"
   ]
  },
  {
   "cell_type": "code",
   "execution_count": 13,
   "id": "2bd3697a",
   "metadata": {},
   "outputs": [
    {
     "name": "stdout",
     "output_type": "stream",
     "text": [
      "18\n",
      "6\n",
      "72\n",
      "2.0\n",
      "0\n"
     ]
    },
    {
     "ename": "TypeError",
     "evalue": "'int' object is not callable",
     "output_type": "error",
     "traceback": [
      "\u001b[1;31m---------------------------------------------------------------------------\u001b[0m",
      "\u001b[1;31mTypeError\u001b[0m                                 Traceback (most recent call last)",
      "Input \u001b[1;32mIn [13]\u001b[0m, in \u001b[0;36m<cell line: 16>\u001b[1;34m()\u001b[0m\n\u001b[0;32m     13\u001b[0m     \u001b[38;5;28mprint\u001b[39m(mod)\n\u001b[0;32m     15\u001b[0m c\u001b[38;5;241m=\u001b[39marith()\n\u001b[1;32m---> 16\u001b[0m \u001b[43mc\u001b[49m\u001b[38;5;241;43m.\u001b[39;49m\u001b[43msum\u001b[49m\u001b[43m(\u001b[49m\u001b[43m)\u001b[49m\n\u001b[0;32m     17\u001b[0m c\u001b[38;5;241m.\u001b[39msub()\n\u001b[0;32m     18\u001b[0m c\u001b[38;5;241m.\u001b[39mmul()\n",
      "\u001b[1;31mTypeError\u001b[0m: 'int' object is not callable"
     ]
    }
   ],
   "source": [
    "class  arith:\n",
    "    a=12\n",
    "    b=6\n",
    "    sum=a+b\n",
    "    print(sum)\n",
    "    sub=a-b\n",
    "    print(sub)\n",
    "    mul=a*b\n",
    "    print(mul)\n",
    "    div=a/b\n",
    "    print(div)\n",
    "    mod=a%b\n",
    "    print(mod)\n",
    "\n",
    "c=arith()\n",
    "c.sum()\n",
    "c.sub()\n",
    "c.mul()\n",
    "c.div()\n",
    "c.mod()"
   ]
  },
  {
   "cell_type": "code",
   "execution_count": 14,
   "id": "013e0b8c",
   "metadata": {},
   "outputs": [
    {
     "name": "stdout",
     "output_type": "stream",
     "text": [
      "6 2 8 2.0\n"
     ]
    }
   ],
   "source": [
    "class airth:\n",
    "    def function(self ,a,b):\n",
    "        add=a+b\n",
    "        sub=a-b\n",
    "        mul=a*b\n",
    "        div=a/b\n",
    "        \n",
    "        print(add,sub,mul,div)\n",
    "a=airth()\n",
    "a.function(4,2)"
   ]
  },
  {
   "cell_type": "code",
   "execution_count": 15,
   "id": "fe7a803f",
   "metadata": {},
   "outputs": [
    {
     "name": "stdout",
     "output_type": "stream",
     "text": [
      "enter the number4\n",
      "enter the number8\n",
      "12 -4 32 0.5\n"
     ]
    }
   ],
   "source": [
    "class airth:\n",
    "    def function(self):\n",
    "        a=int(input(\"enter the number\"))\n",
    "        b=int(input(\"enter the number\"))\n",
    "        add=a+b\n",
    "        sub=a-b\n",
    "        mul=a*b\n",
    "        div=a/b\n",
    "        \n",
    "        print(add,sub,mul,div)\n",
    "a=airth()\n",
    "a.function()"
   ]
  },
  {
   "cell_type": "code",
   "execution_count": 20,
   "id": "ced0ae2d",
   "metadata": {},
   "outputs": [
    {
     "name": "stdout",
     "output_type": "stream",
     "text": [
      "discount\n"
     ]
    }
   ],
   "source": [
    "class car:\n",
    "    def function(self,price ):\n",
    "        \n",
    "        if(price>1000000):\n",
    "            \n",
    "            print(\"14% tax\")\n",
    "        else:\n",
    "            \n",
    "            print(\"discount\")\n",
    "c=car()\n",
    "c.function(500000)"
   ]
  },
  {
   "cell_type": "code",
   "execution_count": 32,
   "id": "659eaa30",
   "metadata": {},
   "outputs": [
    {
     "name": "stdout",
     "output_type": "stream",
     "text": [
      "discount on actual  price =  461.0\n"
     ]
    }
   ],
   "source": [
    "class car:\n",
    "    def function (self,price):\n",
    "        \n",
    "        if(price >1000000):\n",
    "            tax=(price*14)/100\n",
    "            tprice=price+tax\n",
    "            print(\"actual price with tax =\",tprice)\n",
    "            \n",
    "        else:\n",
    "            if(price<100000):\n",
    "                dis=(price*7.8)/100\n",
    "                tprice=price-dis\n",
    "                print(\"discount on actual  price = \",tprice)\n",
    "c=car()\n",
    "c.function(500)"
   ]
  },
  {
   "cell_type": "code",
   "execution_count": 30,
   "id": "7fd8a37c",
   "metadata": {},
   "outputs": [
    {
     "name": "stdout",
     "output_type": "stream",
     "text": [
      "max number  78\n",
      "max number  90\n"
     ]
    }
   ],
   "source": [
    "# a=[56,78,34,90,23]\n",
    "# find the maximum number with the help of function\n",
    "\n",
    "# class max:\n",
    "a=[56,78,34,90,23]\n",
    "def function(a):\n",
    "    max=a[0]\n",
    "    for i in a:\n",
    "        if i>max:\n",
    "            max=i\n",
    "            print(\"max number \",max)\n",
    "function(a)"
   ]
  },
  {
   "cell_type": "code",
   "execution_count": 31,
   "id": "5f28d0c2",
   "metadata": {},
   "outputs": [
    {
     "data": {
      "text/plain": [
       "[23, 34, 56, 78, 90]"
      ]
     },
     "execution_count": 31,
     "metadata": {},
     "output_type": "execute_result"
    }
   ],
   "source": [
    "a=[56,78,34,90,23]\n",
    "a.sort()\n",
    "a"
   ]
  },
  {
   "cell_type": "code",
   "execution_count": 32,
   "id": "4a805f5e",
   "metadata": {},
   "outputs": [
    {
     "data": {
      "text/plain": [
       "78"
      ]
     },
     "execution_count": 32,
     "metadata": {},
     "output_type": "execute_result"
    }
   ],
   "source": [
    "a[-2]"
   ]
  },
  {
   "cell_type": "code",
   "execution_count": null,
   "id": "ed624185",
   "metadata": {},
   "outputs": [],
   "source": []
  }
 ],
 "metadata": {
  "kernelspec": {
   "display_name": "Python 3 (ipykernel)",
   "language": "python",
   "name": "python3"
  },
  "language_info": {
   "codemirror_mode": {
    "name": "ipython",
    "version": 3
   },
   "file_extension": ".py",
   "mimetype": "text/x-python",
   "name": "python",
   "nbconvert_exporter": "python",
   "pygments_lexer": "ipython3",
   "version": "3.9.12"
  }
 },
 "nbformat": 4,
 "nbformat_minor": 5
}
