{
 "cells": [
  {
   "cell_type": "code",
   "execution_count": 28,
   "id": "422364af",
   "metadata": {},
   "outputs": [
    {
     "name": "stdout",
     "output_type": "stream",
     "text": [
      "enter empolyee salary=10000\n",
      "enter experience=9\n",
      "10500.0\n",
      "bonous= 500.0\n"
     ]
    }
   ],
   "source": [
    "#find bonous or net salary\n",
    "salary=int(input(\"enter empolyee salary=\"))\n",
    "exp=int(input(\"enter experience=\"))           \n",
    "if exp>5:\n",
    "    bonous=salary*5/100\n",
    "    total_salary=salary+bonous\n",
    "    print(total_salary)\n",
    "    print(\"bonous=\",bonous)\n",
    "else:\n",
    "    print(\"no bonous\")"
   ]
  },
  {
   "cell_type": "code",
   "execution_count": 119,
   "id": "249414c2",
   "metadata": {},
   "outputs": [
    {
     "name": "stdout",
     "output_type": "stream",
     "text": [
      "12.56\n"
     ]
    }
   ],
   "source": [
    "r=2\n",
    "area=3.14*2*2\n",
    "print(area)"
   ]
  },
  {
   "cell_type": "code",
   "execution_count": 123,
   "id": "c0cd2288",
   "metadata": {},
   "outputs": [
    {
     "name": "stdout",
     "output_type": "stream",
     "text": [
      "4\n"
     ]
    }
   ],
   "source": [
    "\n",
    "#  degree\n",
    "a=2\n",
    "power=a**2\n",
    "print(power)"
   ]
  },
  {
   "cell_type": "code",
   "execution_count": 12,
   "id": "6f2763d7",
   "metadata": {},
   "outputs": [
    {
     "name": "stdout",
     "output_type": "stream",
     "text": [
      "enter item quantity=12\n",
      "total cost= 1200\n",
      "discount= 120.0\n",
      "pay cost= 1080.0\n"
     ]
    }
   ],
   "source": [
    "#find total cost of item pay user\n",
    "quantity=int(input(\"enter item quantity=\"))\n",
    "cost_each=100\n",
    "if quantity>10:\n",
    "    total_cost=quantity*cost_each\n",
    "    discount=total_cost*10/100\n",
    "    pay_cost=total_cost-discount\n",
    "    print(\"total cost=\",total_cost)\n",
    "    print(\"discount=\",discount)\n",
    "    print(\"pay cost=\",pay_cost)\n",
    "else:\n",
    "    print(\"no discount\")"
   ]
  },
  {
   "cell_type": "code",
   "execution_count": 15,
   "id": "5720bb22",
   "metadata": {},
   "outputs": [
    {
     "name": "stdout",
     "output_type": "stream",
     "text": [
      "enter percentage= 78\n",
      "B\n"
     ]
    }
   ],
   "source": [
    "#print percentage\n",
    "per=int(input(\"enter percentage= \"))\n",
    "if per>80:\n",
    "    print(\"A\")\n",
    "elif per>60 and per<80:\n",
    "    print(\"B\")\n",
    "elif per>50 and per<60:\n",
    "    print(\"C\")\n",
    "elif per>45 and per<50:\n",
    "    print(\"D\")\n",
    "elif per>25 and per<45:\n",
    "    print(\"D\")\n",
    "elif per<25:\n",
    "    print(\"E\")"
   ]
  },
  {
   "cell_type": "code",
   "execution_count": 118,
   "id": "3326e5c1",
   "metadata": {},
   "outputs": [
    {
     "name": "stdout",
     "output_type": "stream",
     "text": [
      "56\n"
     ]
    }
   ],
   "source": [
    "a=8\n",
    "b=7\n",
    "print(a*b)"
   ]
  },
  {
   "cell_type": "code",
   "execution_count": 1,
   "id": "d17f990f",
   "metadata": {},
   "outputs": [
    {
     "name": "stdout",
     "output_type": "stream",
     "text": [
      "enter the first number23\n",
      "enter the second number4\n",
      "the sum of two number 27\n"
     ]
    }
   ],
   "source": [
    "x=int(input(\"enter the first number\" ))\n",
    "y=int(input(\"enter the second number\"))\n",
    "z=x+y\n",
    "print(\"the sum of two number\",z)"
   ]
  },
  {
   "cell_type": "code",
   "execution_count": 6,
   "id": "2559e05f",
   "metadata": {},
   "outputs": [
    {
     "name": "stdout",
     "output_type": "stream",
     "text": [
      "enter the math number is 45\n",
      "enter the english number is 50\n",
      "enter the hindi number is 50\n",
      "the avg of all number is  48.333333333333336\n"
     ]
    }
   ],
   "source": [
    "x=int(input(\"enter the math number is \"))\n",
    "y=int(input(\"enter the english number is \"))\n",
    "z=int(input(\"enter the hindi number is \"))\n",
    "avg=(x+y+z)/300*100\n",
    "print(\"the avg of all number is \",avg)"
   ]
  },
  {
   "cell_type": "code",
   "execution_count": 8,
   "id": "96493aa0",
   "metadata": {},
   "outputs": [
    {
     "name": "stdout",
     "output_type": "stream",
     "text": [
      "enter the number 5\n",
      "number is odd\n"
     ]
    }
   ],
   "source": [
    "x=int(input(\"enter the number \"))\n",
    "if(x%2==0):\n",
    "    print(\"number is prime\")\n",
    "else:\n",
    "    print(\"number is odd\")"
   ]
  },
  {
   "cell_type": "code",
   "execution_count": 19,
   "id": "be11574b",
   "metadata": {},
   "outputs": [
    {
     "name": "stdout",
     "output_type": "stream",
     "text": [
      "enter the number of x45\n",
      "enter the number of y49\n",
      "enter the number of z87\n",
      "z is greater \n"
     ]
    }
   ],
   "source": [
    "x=int(input(\"enter the number of x\"))\n",
    "y=int(input(\"enter the number of y\"))\n",
    "z=int(input(\"enter the number of z\"))\n",
    "if x>y and x>z:\n",
    "    print(\" x is greater\")\n",
    "else:\n",
    "    if y>x and y>z:\n",
    "                  print(\"y is greater\")\n",
    "    else:\n",
    "        if z>x and z>y:\n",
    "                      print(\"z is greater \")\n",
    "        else:\n",
    "            print(\"invalid entery\")"
   ]
  },
  {
   "cell_type": "code",
   "execution_count": null,
   "id": "fdf79063",
   "metadata": {},
   "outputs": [],
   "source": [
    "per=int(input(\"enter the number of total marks\"))\n",
    "if per>80:\n",
    "    print(\"topper\")\n",
    "if per>60 and per<80:\n",
    "    print(\"first\")\n",
    "if per>50 and per<60:\n",
    "    print(\"second\")\n",
    "if per>40 and per<50:\n",
    "    print(\"third\")\n",
    "if per<40:\n",
    "    print(\"fail\")"
   ]
  },
  {
   "cell_type": "code",
   "execution_count": 10,
   "id": "7c07a1b7",
   "metadata": {},
   "outputs": [
    {
     "name": "stdout",
     "output_type": "stream",
     "text": [
      "enter the length3\n",
      "enter the bredth3\n",
      "enter the side of square3\n",
      "it is square = 9\n"
     ]
    }
   ],
   "source": [
    "x=int(input(\"enter the length\"))\n",
    "y=int(input(\"enter the bredth\"))\n",
    "side=int(input(\"enter the side of square\"))\n",
    "if(x==y):\n",
    "    area=side**2\n",
    "    print(\"it is square =\",area)\n",
    "else:\n",
    "    area=x*y\n",
    "    print(\"it is rectangle = \",area)"
   ]
  },
  {
   "cell_type": "code",
   "execution_count": 115,
   "id": "f3007e5d",
   "metadata": {},
   "outputs": [
    {
     "name": "stdout",
     "output_type": "stream",
     "text": [
      "hello world\n"
     ]
    }
   ],
   "source": [
    "print(\"hello world\")"
   ]
  },
  {
   "cell_type": "code",
   "execution_count": 117,
   "id": "f7391003",
   "metadata": {},
   "outputs": [
    {
     "name": "stdout",
     "output_type": "stream",
     "text": [
      "hello\n"
     ]
    }
   ],
   "source": [
    "print(\"hello\")"
   ]
  },
  {
   "cell_type": "code",
   "execution_count": 124,
   "id": "2fd1394a",
   "metadata": {},
   "outputs": [
    {
     "name": "stdout",
     "output_type": "stream",
     "text": [
      "4\n",
      "8\n",
      "12\n",
      "16\n",
      "20\n",
      "24\n",
      "28\n",
      "32\n",
      "36\n",
      "40\n"
     ]
    }
   ],
   "source": [
    "i=1\n",
    "while (i<11):\n",
    "    print(i*4)\n",
    "    i=i+1"
   ]
  },
  {
   "cell_type": "code",
   "execution_count": 45,
   "id": "0400a7b8",
   "metadata": {},
   "outputs": [
    {
     "name": "stdout",
     "output_type": "stream",
     "text": [
      "<class 'int'>\n",
      "<class 'int'>\n",
      "the sum of two number  is  40\n"
     ]
    }
   ],
   "source": [
    "a=15\n",
    "b=\"25\"\n",
    "print(type(a))\n",
    "b=int(b)\n",
    "print(type(b))\n",
    "print(\"the sum of two number  is \",a+b)"
   ]
  },
  {
   "cell_type": "code",
   "execution_count": 58,
   "id": "7a2cdcfd",
   "metadata": {},
   "outputs": [
    {
     "name": "stdout",
     "output_type": "stream",
     "text": [
      "H\n",
      "e\n",
      "llo\n"
     ]
    }
   ],
   "source": [
    "a=\"Hello\"\n",
    "print(a[0])\n",
    "print(a[1])\n",
    "print(a[2:5])\n"
   ]
  },
  {
   "cell_type": "code",
   "execution_count": 59,
   "id": "280e21b9",
   "metadata": {},
   "outputs": [
    {
     "name": "stdout",
     "output_type": "stream",
     "text": [
      "   HELLO   \n",
      "HELLO\n"
     ]
    }
   ],
   "source": [
    "a=\"   HELLO   \"     \n",
    "print(a)\n",
    "print(a.strip()) \n",
    "# strip remove all the space"
   ]
  },
  {
   "cell_type": "code",
   "execution_count": 9,
   "id": "e0b10373",
   "metadata": {},
   "outputs": [
    {
     "name": "stdout",
     "output_type": "stream",
     "text": [
      "[61, 3, 3, 4, 6, 41]\n",
      "6\n"
     ]
    }
   ],
   "source": [
    "# a= \"helo0\"\n",
    "# print(a)\n",
    "# print(len)\n",
    "lst=[61,3,3,4,6,41]\n",
    "print(lst)\n",
    "var=lst\n",
    "var=len(lst) \n",
    "# var=lst[1:4]\n",
    "print(var)"
   ]
  },
  {
   "cell_type": "code",
   "execution_count": 69,
   "id": "add26de0",
   "metadata": {},
   "outputs": [
    {
     "name": "stdout",
     "output_type": "stream",
     "text": [
      "HELLO\n",
      "\n",
      "\n",
      "hello\n"
     ]
    }
   ],
   "source": [
    "a=\"HELLO\"\n",
    "print(a)\n",
    "print(\"\\n\")\n",
    "print(a.lower())"
   ]
  },
  {
   "cell_type": "code",
   "execution_count": 71,
   "id": "2d9b34ce",
   "metadata": {},
   "outputs": [
    {
     "name": "stdout",
     "output_type": "stream",
     "text": [
      "hello\n",
      "\n",
      "\n",
      "HELLO\n"
     ]
    }
   ],
   "source": [
    "a=\"hello\"\n",
    "print(a)\n",
    "print(\"\\n\")\n",
    "print(a.upper())"
   ]
  },
  {
   "cell_type": "code",
   "execution_count": 74,
   "id": "a31ff4f3",
   "metadata": {},
   "outputs": [
    {
     "name": "stdout",
     "output_type": "stream",
     "text": [
      "hello\n",
      "hi\n"
     ]
    }
   ],
   "source": [
    "a=\"hello\"\n",
    "print(a)\n",
    "print(a.replace(\"ello\",\"i\"))"
   ]
  },
  {
   "cell_type": "code",
   "execution_count": 75,
   "id": "a4103261",
   "metadata": {},
   "outputs": [
    {
     "name": "stdout",
     "output_type": "stream",
     "text": [
      "shivambhai\n"
     ]
    }
   ],
   "source": [
    "a=\"shivam\"\n",
    "b=\"bhai\"\n",
    "print(a+b)\n",
    "# add two string"
   ]
  },
  {
   "cell_type": "code",
   "execution_count": 84,
   "id": "016ea662",
   "metadata": {},
   "outputs": [
    {
     "name": "stdout",
     "output_type": "stream",
     "text": [
      "this is the {} string Demo\n",
      "this is the {0} string Format\n",
      "this is the {1} string Demo\n"
     ]
    }
   ],
   "source": [
    "a=\"Demo\"\n",
    "b=\"Format\"\n",
    "print(\"this is the {} string\",format(a))\n",
    "print(\"this is the {0} string\",format(b))\n",
    "print(\"this is the {1} string\",format(a))"
   ]
  },
  {
   "cell_type": "code",
   "execution_count": 78,
   "id": "1dcf531d",
   "metadata": {},
   "outputs": [
    {
     "name": "stdout",
     "output_type": "stream",
     "text": [
      "this is a Demo of Format string\n"
     ]
    }
   ],
   "source": [
    "a==\"Demo\"\n",
    "b=\"Format\"\n",
    "print(f\"this is a {a} of {b} string\")"
   ]
  },
  {
   "cell_type": "code",
   "execution_count": 94,
   "id": "48c3e7e0",
   "metadata": {},
   "outputs": [
    {
     "name": "stdout",
     "output_type": "stream",
     "text": [
      "[8, 9, 4, 5, 2]\n",
      "<class 'list'>\n",
      "8\n",
      "9\n",
      "2\n",
      "[8, 9]\n"
     ]
    }
   ],
   "source": [
    "lst =[8,9,4,5,2]\n",
    "print(lst)\n",
    "print(type(lst))\n",
    "\n",
    "print(lst[0])\n",
    "print(lst[1])\n",
    "print(lst[4])\n",
    "print(lst[:2])"
   ]
  },
  {
   "cell_type": "code",
   "execution_count": 98,
   "id": "c1088a53",
   "metadata": {},
   "outputs": [
    {
     "name": "stdout",
     "output_type": "stream",
     "text": [
      "[2, 5, 7, 9, 3, 6]\n",
      "<class 'list'>\n",
      "[2, 5, 7, 9, 3, 6, 8]\n"
     ]
    }
   ],
   "source": [
    "lst =[2,5,7,9,3,6]\n",
    "print(lst)\n",
    "print(type(lst))\n",
    "lst.append(8)\n",
    "# add number in a last\n",
    "print(lst)"
   ]
  },
  {
   "cell_type": "code",
   "execution_count": 103,
   "id": "6980e82d",
   "metadata": {},
   "outputs": [
    {
     "name": "stdout",
     "output_type": "stream",
     "text": [
      "[2, 3, 4, 5, 6, 7]\n",
      "<class 'list'>\n",
      "[2, 3, 4, 1, 5, 6, 7]\n"
     ]
    }
   ],
   "source": [
    "lst=[2,3,4,5,6,7]\n",
    "print(lst)\n",
    "print(type(lst))\n",
    "lst.insert(3,1)\n",
    "# adding the number with help of index aand place it\n",
    "print(lst)"
   ]
  },
  {
   "cell_type": "code",
   "execution_count": 105,
   "id": "6d56ccfd",
   "metadata": {},
   "outputs": [
    {
     "name": "stdout",
     "output_type": "stream",
     "text": [
      "[1, 2, 3, 4, 5, 6]\n",
      "[1, 2, 3, 4, 6]\n"
     ]
    }
   ],
   "source": [
    "lst=[1,2,3,4,5,6]\n",
    "print(lst)\n",
    "lst.remove(5)\n",
    "# remove the element in the list\n",
    "print(lst)"
   ]
  },
  {
   "cell_type": "code",
   "execution_count": 107,
   "id": "27d77d5c",
   "metadata": {},
   "outputs": [
    {
     "name": "stdout",
     "output_type": "stream",
     "text": [
      "[1, 2, 3, 4, 5, 7, 9]\n",
      "[1, 2, 3, 4, 5, 7]\n"
     ]
    }
   ],
   "source": [
    "lst=[1,2,3,4,5,7,9]\n",
    "print(lst)\n",
    "lst.pop()\n",
    "# remove only last element in the list\n",
    "print(lst)"
   ]
  },
  {
   "cell_type": "code",
   "execution_count": 109,
   "id": "1b47cbce",
   "metadata": {},
   "outputs": [
    {
     "name": "stdout",
     "output_type": "stream",
     "text": [
      "[1, 2, 3, 4, 5]\n",
      "[1, 3, 4, 5]\n"
     ]
    }
   ],
   "source": [
    "lst=[1,2,3,4,5]\n",
    "print(lst)\n",
    "del lst[1]\n",
    "# delte the indexx of a list\n",
    "print(lst)"
   ]
  },
  {
   "cell_type": "code",
   "execution_count": 114,
   "id": "5493b1d5",
   "metadata": {},
   "outputs": [
    {
     "name": "stdout",
     "output_type": "stream",
     "text": [
      "[2, 3, 1, 4, 5]\n",
      "[]\n"
     ]
    }
   ],
   "source": [
    "lst=[2,3,1,4,5,]\n",
    "print(lst)\n",
    "lst.clear()\n",
    "# clear all the elements of a number\n",
    "print(lst)"
   ]
  },
  {
   "cell_type": "code",
   "execution_count": null,
   "id": "907139bc",
   "metadata": {},
   "outputs": [],
   "source": []
  },
  {
   "cell_type": "code",
   "execution_count": null,
   "id": "c4a658e1",
   "metadata": {},
   "outputs": [],
   "source": [
    "n=int(input(\"number of terms\"))\n",
    "if(n%2==0):\n",
    "    print(number even)\n",
    "else:\n",
    "    if(n%2!)"
   ]
  }
 ],
 "metadata": {
  "kernelspec": {
   "display_name": "Python 3 (ipykernel)",
   "language": "python",
   "name": "python3"
  },
  "language_info": {
   "codemirror_mode": {
    "name": "ipython",
    "version": 3
   },
   "file_extension": ".py",
   "mimetype": "text/x-python",
   "name": "python",
   "nbconvert_exporter": "python",
   "pygments_lexer": "ipython3",
   "version": "3.9.12"
  }
 },
 "nbformat": 4,
 "nbformat_minor": 5
}
