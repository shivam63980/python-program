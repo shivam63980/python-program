{
 "cells": [
  {
   "cell_type": "code",
   "execution_count": 14,
   "id": "0116b9c3",
   "metadata": {},
   "outputs": [
    {
     "data": {
      "text/plain": [
       "9"
      ]
     },
     "execution_count": 14,
     "metadata": {},
     "output_type": "execute_result"
    }
   ],
   "source": [
    "a=lambda x:x**2\n",
    "a(3)"
   ]
  },
  {
   "cell_type": "markdown",
   "id": "d4f93711",
   "metadata": {},
   "source": [
    "# lambda function"
   ]
  },
  {
   "cell_type": "code",
   "execution_count": 15,
   "id": "40072c37",
   "metadata": {},
   "outputs": [
    {
     "data": {
      "text/plain": [
       "27"
      ]
     },
     "execution_count": 15,
     "metadata": {},
     "output_type": "execute_result"
    }
   ],
   "source": [
    "a=lambda x:x**3\n",
    "a(3)"
   ]
  },
  {
   "cell_type": "code",
   "execution_count": 52,
   "id": "0b0e07f1",
   "metadata": {},
   "outputs": [
    {
     "data": {
      "text/plain": [
       "True"
      ]
     },
     "execution_count": 52,
     "metadata": {},
     "output_type": "execute_result"
    }
   ],
   "source": [
    "#wap  to find the max number from 56 and 57 through lambda fuction\n",
    "\n",
    "a=lambda x,y:True if x<y else False\n",
    "a(56,57)"
   ]
  },
  {
   "cell_type": "code",
   "execution_count": 31,
   "id": "1bf79d29",
   "metadata": {},
   "outputs": [
    {
     "data": {
      "text/plain": [
       "5.8"
      ]
     },
     "execution_count": 31,
     "metadata": {},
     "output_type": "execute_result"
    }
   ],
   "source": [
    "a=lambda b,c,d,e,f:(b+c+d+e+f)/5\n",
    "a(4,6,8,9,2)"
   ]
  },
  {
   "cell_type": "code",
   "execution_count": 24,
   "id": "0085d805",
   "metadata": {},
   "outputs": [
    {
     "name": "stdout",
     "output_type": "stream",
     "text": [
      "even\n"
     ]
    }
   ],
   "source": [
    "a=lambda n:print(\"even\") if(n%2==0)  else print(\"odd\")\n",
    "a(8)"
   ]
  },
  {
   "cell_type": "code",
   "execution_count": 27,
   "id": "c2c89ebb",
   "metadata": {},
   "outputs": [
    {
     "data": {
      "text/plain": [
       "30"
      ]
     },
     "execution_count": 27,
     "metadata": {},
     "output_type": "execute_result"
    }
   ],
   "source": [
    "a=lambda x:x*15\n",
    "a(2)"
   ]
  },
  {
   "cell_type": "code",
   "execution_count": 28,
   "id": "a863f109",
   "metadata": {},
   "outputs": [
    {
     "data": {
      "text/plain": [
       "45"
      ]
     },
     "execution_count": 28,
     "metadata": {},
     "output_type": "execute_result"
    }
   ],
   "source": [
    "a(3)"
   ]
  },
  {
   "cell_type": "code",
   "execution_count": 29,
   "id": "f0d390ca",
   "metadata": {},
   "outputs": [
    {
     "data": {
      "text/plain": [
       "60"
      ]
     },
     "execution_count": 29,
     "metadata": {},
     "output_type": "execute_result"
    }
   ],
   "source": [
    "a(4)"
   ]
  },
  {
   "cell_type": "code",
   "execution_count": 34,
   "id": "05eeb1b1",
   "metadata": {},
   "outputs": [
    {
     "name": "stdout",
     "output_type": "stream",
     "text": [
      "[89, 90, 67, 89, 86]\n"
     ]
    }
   ],
   "source": [
    "a=[34,89,90,56,45,67,89,32,-8,36,86,12]\n",
    "b=[]\n",
    "for i in a:\n",
    "    if i>60:\n",
    "        b.append(i)\n",
    "print(b)"
   ]
  },
  {
   "cell_type": "markdown",
   "id": "bd1efb63",
   "metadata": {},
   "source": [
    "# filter function"
   ]
  },
  {
   "cell_type": "code",
   "execution_count": 33,
   "id": "1f0d41b7",
   "metadata": {},
   "outputs": [
    {
     "data": {
      "text/plain": [
       "[89, 90, 67, 89, 86]"
      ]
     },
     "execution_count": 33,
     "metadata": {},
     "output_type": "execute_result"
    }
   ],
   "source": [
    "a=[34,89,90,56,45,67,89,32,-8,36,86,12]\n",
    "list(filter(lambda a: True if a>60 else False,a))"
   ]
  },
  {
   "cell_type": "markdown",
   "id": "b4a21a46",
   "metadata": {},
   "source": [
    "a=[34,89,90,56,45,67,89,32,-8,36,86,12]\n"
   ]
  },
  {
   "cell_type": "code",
   "execution_count": 37,
   "id": "dfbd79b0",
   "metadata": {},
   "outputs": [
    {
     "data": {
      "text/plain": [
       "(89, 90, 67, 89, 86)"
      ]
     },
     "execution_count": 37,
     "metadata": {},
     "output_type": "execute_result"
    }
   ],
   "source": [
    "a=[34,89,90,56,45,67,89,32,-8,36,86,12]\n",
    "def fun(a):\n",
    "    if a>60:\n",
    "        return True\n",
    "    else:\n",
    "        return False\n",
    "    \n",
    "tuple(filter(fun,a))"
   ]
  },
  {
   "cell_type": "markdown",
   "id": "5638743e",
   "metadata": {},
   "source": [
    "# Map function\n"
   ]
  },
  {
   "cell_type": "code",
   "execution_count": 41,
   "id": "6113758c",
   "metadata": {},
   "outputs": [
    {
     "data": {
      "text/plain": [
       "[1, 4, 9, 16]"
      ]
     },
     "execution_count": 41,
     "metadata": {},
     "output_type": "execute_result"
    }
   ],
   "source": [
    "a=[1,2,3,4]\n",
    "list(map(lambda a:a**2,a))"
   ]
  },
  {
   "cell_type": "code",
   "execution_count": 42,
   "id": "17d55caa",
   "metadata": {},
   "outputs": [
    {
     "data": {
      "text/plain": [
       "[4, 9]"
      ]
     },
     "execution_count": 42,
     "metadata": {},
     "output_type": "execute_result"
    }
   ],
   "source": [
    "a=[2,3]\n",
    "list(map(lambda a:a**2,a))"
   ]
  },
  {
   "cell_type": "code",
   "execution_count": 43,
   "id": "3f5df7c6",
   "metadata": {},
   "outputs": [
    {
     "data": {
      "text/plain": [
       "[1, 4, 9, 16]"
      ]
     },
     "execution_count": 43,
     "metadata": {},
     "output_type": "execute_result"
    }
   ],
   "source": [
    "a=[1,2,3,4]\n",
    "def sq(a):\n",
    "    a=a**2\n",
    "    return a\n",
    "list(map(sq,a))"
   ]
  },
  {
   "cell_type": "markdown",
   "id": "b5431218",
   "metadata": {},
   "source": [
    "# Reduce function\n"
   ]
  },
  {
   "cell_type": "code",
   "execution_count": 44,
   "id": "3156fedc",
   "metadata": {},
   "outputs": [],
   "source": [
    "from functools import reduce"
   ]
  },
  {
   "cell_type": "code",
   "execution_count": 48,
   "id": "7e077925",
   "metadata": {},
   "outputs": [],
   "source": [
    "a=[1,2,3,4]\n",
    "d=reduce(lambda x,y:x+y,a)"
   ]
  },
  {
   "cell_type": "code",
   "execution_count": 49,
   "id": "3cb2bcf0",
   "metadata": {
    "scrolled": true
   },
   "outputs": [
    {
     "data": {
      "text/plain": [
       "10"
      ]
     },
     "execution_count": 49,
     "metadata": {},
     "output_type": "execute_result"
    }
   ],
   "source": [
    "d\n"
   ]
  },
  {
   "cell_type": "code",
   "execution_count": 50,
   "id": "41916576",
   "metadata": {},
   "outputs": [
    {
     "data": {
      "text/plain": [
       "int"
      ]
     },
     "execution_count": 50,
     "metadata": {},
     "output_type": "execute_result"
    }
   ],
   "source": [
    "type(d)"
   ]
  },
  {
   "cell_type": "code",
   "execution_count": null,
   "id": "6d51c641",
   "metadata": {},
   "outputs": [],
   "source": []
  },
  {
   "cell_type": "code",
   "execution_count": null,
   "id": "bcdd49aa",
   "metadata": {},
   "outputs": [],
   "source": []
  }
 ],
 "metadata": {
  "kernelspec": {
   "display_name": "Python 3 (ipykernel)",
   "language": "python",
   "name": "python3"
  },
  "language_info": {
   "codemirror_mode": {
    "name": "ipython",
    "version": 3
   },
   "file_extension": ".py",
   "mimetype": "text/x-python",
   "name": "python",
   "nbconvert_exporter": "python",
   "pygments_lexer": "ipython3",
   "version": "3.9.12"
  }
 },
 "nbformat": 4,
 "nbformat_minor": 5
}
